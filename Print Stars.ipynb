{
 "cells": [
  {
   "cell_type": "markdown",
   "id": "891e9523",
   "metadata": {},
   "source": [
    "## Print Stars Program\n",
    "<em>This simple project used for printing starts with a size that user defined</em>"
   ]
  },
  {
   "cell_type": "markdown",
   "id": "80d344f8",
   "metadata": {},
   "source": [
    "## Data science Languages\n",
    "1-Python <br>\n",
    "2-R <br>\n",
    "3-Julia <br>\n",
    "and much more"
   ]
  },
  {
   "cell_type": "markdown",
   "id": "6644a634",
   "metadata": {},
   "source": [
    "## Data science Library\n",
    "1-Sciket learn <br>\n",
    "2-Tenser Flow <br>\n",
    "3-Kears<br>"
   ]
  },
  {
   "cell_type": "markdown",
   "id": "836f51a9",
   "metadata": {},
   "source": [
    "## Data science Tools\n",
    "1-Git-hub <br>\n",
    "2-Juypter(THIS WEBSITE)<br>\n",
    "3-Rstudio<br>"
   ]
  },
  {
   "cell_type": "markdown",
   "id": "22809505",
   "metadata": {},
   "source": [
    "##  Arthametic examples\n",
    "1-Addition +<br>\n",
    "-> 1 + 1<br>\n",
    "2-Subtraction -<br>\n",
    "-> 1 - 1<br>\n",
    "3-Multiplication *<br>\n",
    "-> 1 * 1<br>\n",
    "4-divison /<br>\n",
    "-> 1 / 1<br>"
   ]
  },
  {
   "cell_type": "code",
   "execution_count": 1,
   "id": "1930c856",
   "metadata": {},
   "outputs": [
    {
     "name": "stdout",
     "output_type": "stream",
     "text": [
      "multpliplcation: 4\n",
      "addition: 2\n"
     ]
    }
   ],
   "source": [
    "#multpliplcation\n",
    "z=2*2\n",
    "print(\"multpliplcation:\",z)\n",
    "#addition\n",
    "m=1+1\n",
    "print(\"addition:\",m)"
   ]
  },
  {
   "cell_type": "code",
   "execution_count": 3,
   "id": "7f91c37f",
   "metadata": {},
   "outputs": [
    {
     "name": "stdout",
     "output_type": "stream",
     "text": [
      "Number of hours: 1.0\n"
     ]
    }
   ],
   "source": [
    "#convert Minuts to hour\n",
    "minitus=60\n",
    "print(\"Number of hours:\",(minitus/60))"
   ]
  },
  {
   "cell_type": "markdown",
   "id": "38577972",
   "metadata": {},
   "source": [
    "## Objective \n",
    ">Let the user know the start printed using Jupyter notebook\n",
    " and Make a simpke cell that print stars"
   ]
  },
  {
   "cell_type": "markdown",
   "id": "928ebb13",
   "metadata": {},
   "source": [
    "## Auther Name\n",
    "*IBAHIM MUSTAFA ALI*"
   ]
  },
  {
   "cell_type": "markdown",
   "id": "8fe81030",
   "metadata": {},
   "source": [
    "## Program Cell:"
   ]
  },
  {
   "cell_type": "code",
   "execution_count": 5,
   "id": "1ec2aa33",
   "metadata": {},
   "outputs": [
    {
     "name": "stdout",
     "output_type": "stream",
     "text": [
      "Number of raws:3\n",
      "\n",
      "*\n",
      "**\n",
      "***\n"
     ]
    }
   ],
   "source": [
    "num=int(input(\"Number of raws:\"))\n",
    "for i in range(num+1):\n",
    "    k=\"\"\n",
    "    for j in range(i):\n",
    "        k=k+\"*\"\n",
    "    print(k)"
   ]
  },
  {
   "cell_type": "code",
   "execution_count": null,
   "id": "c6479380",
   "metadata": {},
   "outputs": [],
   "source": []
  }
 ],
 "metadata": {
  "kernelspec": {
   "display_name": "Python 3 (ipykernel)",
   "language": "python",
   "name": "python3"
  },
  "language_info": {
   "codemirror_mode": {
    "name": "ipython",
    "version": 3
   },
   "file_extension": ".py",
   "mimetype": "text/x-python",
   "name": "python",
   "nbconvert_exporter": "python",
   "pygments_lexer": "ipython3",
   "version": "3.11.4"
  }
 },
 "nbformat": 4,
 "nbformat_minor": 5
}
